{
 "cells": [
  {
   "cell_type": "markdown",
   "metadata": {},
   "source": [
    "# special_hot_water function\n",
    "\n",
    "This note aims to explain how `heatpro.special_hot_water.special_hot_water` is working"
   ]
  },
  {
   "cell_type": "code",
   "execution_count": null,
   "metadata": {},
   "outputs": [],
   "source": [
    "import numpy as np\n",
    "import pandas as pd\n",
    "import plotly.graph_objects as go\n",
    "import plotly.io as pio\n",
    "\n",
    "pio.renderers.default='notebook'\n",
    "pd.options.plotting.backend = \"plotly\""
   ]
  },
  {
   "cell_type": "markdown",
   "metadata": {},
   "source": [
    "# Prerequisites : External Factors and Induced Factors"
   ]
  },
  {
   "cell_type": "markdown",
   "metadata": {},
   "source": [
    "External Factors are exogenous data."
   ]
  },
  {
   "cell_type": "code",
   "execution_count": null,
   "metadata": {},
   "outputs": [],
   "source": [
    "from heatpro.external_factors import ExternalFactors, EXTERNAL_TEMPERATURE_NAME\n",
    "\n",
    "df = pd.read_csv('../data/external_factors.csv',parse_dates=True,index_col=0)\n",
    "df.index = pd.date_range(start='2021',freq='h',periods=8760*2)\n",
    "external_factors = ExternalFactors(df)\n",
    "external_factors.data.astype(float).plot()"
   ]
  },
  {
   "cell_type": "markdown",
   "metadata": {},
   "source": [
    "Induced factor comes from External Factors processing.<br>\n",
    "Cold water temperature correspond to temparature in drinking water distribution network.<br>\n",
    "Closed heating season correspond to a period where months have at least one day in the heating season. Consumption on Closed Heating Season while be used to evaluate a normalized heat consomption for hot water."
   ]
  },
  {
   "cell_type": "code",
   "execution_count": null,
   "metadata": {},
   "outputs": [],
   "source": [
    "from heatpro.external_factors import closed_heating_season, burch_cold_water, basic_temperature_departure, basic_temperature_return, kasuda_soil_temperature\n",
    "\n",
    "induced_factors = pd.concat((\n",
    "                        closed_heating_season(external_factors),\n",
    "                        burch_cold_water(external_factors),\n",
    "                        basic_temperature_departure(external_factors, T_max_HS=110,\n",
    "                                                    T_max_NHS=90, T_min_HS=80, T_min_NHS=70,\n",
    "                                                    T_ext_mid=15, T_ext_min=-15),\n",
    "                        basic_temperature_return(external_factors, 70, 60),\n",
    "                        kasuda_soil_temperature(external_factors,d=3, alpha=0.078),\n",
    "                            ),axis=1)\n",
    "induced_factors.astype(float).plot().show()\n",
    "\n",
    "fig = go.Figure(layout_title=\"Difference between Heating Season and Closed Heating Season\")\n",
    "\n",
    "fig.add_trace(\n",
    "    go.Scatter(\n",
    "    x = external_factors.data.index,\n",
    "    y = external_factors.data.heating_season,\n",
    "    name = \"Heating Season\",\n",
    "    )\n",
    ")\n",
    "fig.add_trace(\n",
    "    go.Scatter(\n",
    "    x = induced_factors.index,\n",
    "    y = induced_factors.closed_heating_season,\n",
    "    name = \"Closed Heating Season\",\n",
    "    )\n",
    ")\n",
    "fig.show()"
   ]
  },
  {
   "cell_type": "markdown",
   "metadata": {},
   "source": [
    "Beginning with a monthly energy consumption for heating including hot water consumption."
   ]
  },
  {
   "cell_type": "code",
   "execution_count": null,
   "metadata": {},
   "outputs": [],
   "source": [
    "from heatpro.temporal_demand import MonthlyHeatDemand\n",
    "from heatpro.check import ENERGY_FEATURE_NAME\n",
    "\n",
    "np.random.seed(22)\n",
    "total_heating_including_hotwater = MonthlyHeatDemand(\n",
    "                                    'total_heating',\n",
    "                                    pd.DataFrame(\n",
    "                                        np.random.rand(24) * 10_000 + 60_000,       # Heating demand randomly initialized\n",
    "                                        index=pd.date_range('2021',freq='MS',end='2023',inclusive='left'), #Monthly indexing\n",
    "                                        columns=[ENERGY_FEATURE_NAME],\n",
    "                                        )\n",
    "                                )\n",
    "total_heating_including_hotwater.plot()"
   ]
  },
  {
   "cell_type": "markdown",
   "metadata": {},
   "source": [
    "Monthly hot water consumption (In terms of quantity of hot water and not energy) is given. Sum on each year of weights equals 1 as it is a profile (consequently normalized).\n",
    "$$\n",
    "\\forall~year, \\int_{year}Q(t)dt = \\sum_{month\\in year}Q(month)= 1\n",
    "$$\n"
   ]
  },
  {
   "cell_type": "code",
   "execution_count": null,
   "metadata": {},
   "outputs": [],
   "source": [
    "monthly_hot_water_profile = pd.DataFrame(\n",
    "    [1.13,1.11,1.04,1.04,1.0,0.93,0.8,0.74,0.98,1.0,1.09,1.14]*2,\n",
    "    columns=['weight'],\n",
    "    index=total_heating_including_hotwater.data.index,\n",
    "            ) / 12 # To normalize\n",
    "monthly_hot_water_profile.plot()"
   ]
  },
  {
   "cell_type": "code",
   "execution_count": null,
   "metadata": {},
   "outputs": [],
   "source": [
    "monthly_hot_water_profile.resample('YE').sum() #Sum over each year"
   ]
  },
  {
   "cell_type": "markdown",
   "metadata": {},
   "source": [
    "Monthly profile is disaggregate into hourly profile taking into account number of day in each month and number of hour in each day"
   ]
  },
  {
   "cell_type": "markdown",
   "metadata": {},
   "source": [
    "$$\n",
    "\\forall~year, \\int_{year}Q(t)dt = \\sum_{hour \\in month,month\\in year}Q(hour,month)= 1\n",
    "$$"
   ]
  },
  {
   "cell_type": "code",
   "execution_count": null,
   "metadata": {},
   "outputs": [],
   "source": [
    "from heatpro.demand_profile import day_length_proportionnal_weight\n",
    "\n",
    "hourly_hot_water_month_profile = (day_length_proportionnal_weight(monthly_hot_water_profile.index)\\\n",
    "                    /24 \\\n",
    "                    * monthly_hot_water_profile) \\\n",
    "                    .reindex(induced_factors.index).ffill()"
   ]
  },
  {
   "cell_type": "code",
   "execution_count": null,
   "metadata": {},
   "outputs": [],
   "source": [
    "fig = go.Figure(layout_title=\"Change to monthly weight to hourly weight (constant on month)\")\n",
    "\n",
    "# Add trace for previous monthly weight\n",
    "fig.add_trace(\n",
    "    go.Scatter(\n",
    "        x=monthly_hot_water_profile.index,\n",
    "        y=monthly_hot_water_profile.weight,\n",
    "        name=\"Previous monthly weight\",\n",
    "        yaxis=\"y1\"  # Assign to y-axis 1\n",
    "    )\n",
    ")\n",
    "\n",
    "# Add trace for new hourly weight\n",
    "fig.add_trace(\n",
    "    go.Scatter(\n",
    "        x=hourly_hot_water_month_profile.index,\n",
    "        y=hourly_hot_water_month_profile.weight,\n",
    "        name=\"New hourly weight\",\n",
    "        yaxis=\"y2\"  # Assign to y-axis 2\n",
    "    )\n",
    ")\n",
    "\n",
    "# Define y-axis properties\n",
    "fig.update_layout(\n",
    "    yaxis=dict(\n",
    "        title=\"Previous monthly weight\",\n",
    "        side=\"left\"  # Align with left side\n",
    "    ),\n",
    "    yaxis2=dict(\n",
    "        title=\"New hourly weight\",\n",
    "        overlaying=\"y\",  # Overlay on top of first y-axis\n",
    "        side=\"right\"  # Align with right side\n",
    "    ),\n",
    "    legend=dict(\n",
    "        orientation=\"h\",  # Horizontal orientation\n",
    "        yanchor=\"top\",  # Anchor to the top\n",
    "        y=-0.1,  # Position below the plot\n",
    "        x=0.5,\n",
    "        xanchor=\"center\"  # Anchor to the center\n",
    "    )\n",
    ")\n",
    "\n",
    "# Show the figure\n",
    "fig.show()\n"
   ]
  },
  {
   "cell_type": "markdown",
   "metadata": {},
   "source": [
    "Sum of hourly weights over a year equal 1."
   ]
  },
  {
   "cell_type": "code",
   "execution_count": null,
   "metadata": {},
   "outputs": [],
   "source": [
    "hourly_hot_water_month_profile.resample('YE').sum()"
   ]
  },
  {
   "cell_type": "markdown",
   "metadata": {},
   "source": [
    "Energy consumption on Closed Non Heating Season (supposedly equals to energy consumption for hot water production)"
   ]
  },
  {
   "cell_type": "code",
   "execution_count": null,
   "metadata": {},
   "outputs": [],
   "source": [
    "from heatpro.external_factors import CLOSED_HEATING_SEASON_NAME\n",
    "\n",
    "non_heating_season_consumption = total_heating_including_hotwater.\\\n",
    "                data[~induced_factors[CLOSED_HEATING_SEASON_NAME].\\\n",
    "                reindex(total_heating_including_hotwater.data.index)]\\\n",
    "                [ENERGY_FEATURE_NAME].sum()\n",
    "                \n",
    "df = pd.DataFrame({\n",
    "    'Year': total_heating_including_hotwater.data[~induced_factors[CLOSED_HEATING_SEASON_NAME].reindex(total_heating_including_hotwater.data.index)].index.year,\n",
    "    'Month': total_heating_including_hotwater.data[~induced_factors[CLOSED_HEATING_SEASON_NAME].reindex(total_heating_including_hotwater.data.index)].index.month\n",
    "    })\n",
    "    \n",
    "print(f'Non heating season consumption : {non_heating_season_consumption:.0f} kWh')\n",
    "print(f'Overall consumption : {total_heating_including_hotwater.data.thermal_energy_kWh.sum():.0f} kWh')"
   ]
  },
  {
   "cell_type": "code",
   "execution_count": null,
   "metadata": {},
   "outputs": [],
   "source": [
    "df.iloc[0]\n",
    "total_heating_including_hotwater.data.loc[pd.DatetimeIndex(total_heating_including_hotwater.data.index).to_period('M') == f'{df.iloc[0].Year}-{df.iloc[0].Month:02d}',ENERGY_FEATURE_NAME].iloc[0]"
   ]
  },
  {
   "cell_type": "markdown",
   "metadata": {},
   "source": [
    "Get hourly energy consumption using gap temperature through time. For now consumption is constant on each day."
   ]
  },
  {
   "cell_type": "markdown",
   "metadata": {},
   "source": [
    "$$\n",
    "\\forall~day, E(day) = \\frac{\\int_{day}Q(t)\\cdot(T^{(\\text{prod})}-T_t^{(\\text{Cold Water})})dt}{\\int_{\\text{Non Heating Season}}Q(t)\\cdot(T^{(\\text{prod})}-T_t^{(\\text{Cold Water})})dt} \\cdot \\int_{\\text{Non Heating Season}} E(t)dt\n",
    "$$"
   ]
  },
  {
   "cell_type": "markdown",
   "metadata": {},
   "source": [
    "$$\n",
    "\\forall~hour \\in~day, E(hour) = P(hour) \\cdot E(day)\n",
    "$$\n",
    "where,\n",
    "$$\n",
    "\\sum_{hour\\in day}P(hour) = 1\n",
    "$$"
   ]
  },
  {
   "cell_type": "code",
   "execution_count": null,
   "metadata": {},
   "outputs": [],
   "source": [
    "Temperature_hot_water = 60\n",
    "\n",
    "daily_hot_water_energy_consumption = (non_heating_season_consumption *\\\n",
    "                                    (hourly_hot_water_month_profile['weight'] * (Temperature_hot_water - induced_factors['cold_water_temperature']))\\\n",
    "                                        .groupby(hourly_hot_water_month_profile.index.date).transform('sum')/\\\n",
    "                                    (hourly_hot_water_month_profile['weight'] * (Temperature_hot_water - induced_factors['cold_water_temperature']))[~induced_factors['closed_heating_season']].sum())\\\n",
    "                                        .rename(ENERGY_FEATURE_NAME)\n",
    "                                    \n",
    "daily_hot_water_energy_consumption.plot().update_layout(title='Daily consumption').show()\n",
    "\n",
    "for _, row in df.iterrows():\n",
    "    mask_daily_hot_water_energy_consumption = pd.DatetimeIndex(daily_hot_water_energy_consumption.index).to_period('M') == f'{row.Year}-{row.Month:02d}'\n",
    "    mask_total_heating_including_hotwater = pd.DatetimeIndex(total_heating_including_hotwater.data.index).to_period('M') == f'{row.Year}-{row.Month:02d}'\n",
    "    daily_hot_water_energy_consumption.loc[mask_daily_hot_water_energy_consumption] =\\\n",
    "        (total_heating_including_hotwater.data.loc[mask_total_heating_including_hotwater,ENERGY_FEATURE_NAME].iloc[0] *\\\n",
    "                                        (hourly_hot_water_month_profile['weight'] * (Temperature_hot_water - induced_factors['cold_water_temperature']))\\\n",
    "                                            .groupby(hourly_hot_water_month_profile.index.date).transform('sum')/\\\n",
    "                                        (hourly_hot_water_month_profile['weight'] * (Temperature_hot_water - induced_factors['cold_water_temperature']))[mask_daily_hot_water_energy_consumption].sum())\\\n",
    "                                            .rename(ENERGY_FEATURE_NAME)\n",
    "\n",
    "daily_hot_water_energy_consumption.plot().update_layout(title='Daily consumption').show()"
   ]
  },
  {
   "cell_type": "code",
   "execution_count": null,
   "metadata": {},
   "outputs": [],
   "source": [
    "from heatpro.demand_profile import apply_hourly_pattern, basic_hot_water_hourly_profile, basic_hot_water_monthly_profile\n",
    "hot_water_raw_profil = {\n",
    "\t\t\t0: 0.01,\n",
    "\t\t\t1: 0,\n",
    "\t\t\t2: 0,\n",
    "\t\t\t3: 0,\n",
    "\t\t\t4: 0,\n",
    "\t\t\t5: 4.797,\n",
    "\t\t\t6: 3.543,\n",
    "\t\t\t7: 0.86,\n",
    "\t\t\t8: 0.43,\n",
    "\t\t\t9: 0.86,\n",
    "\t\t\t10: 1.3,\n",
    "\t\t\t11: 0,\n",
    "\t\t\t12: 0.43,\n",
    "\t\t\t13: 0.43,\n",
    "\t\t\t14: 0.43,\n",
    "\t\t\t15: 0,\n",
    "\t\t\t16: 1.3,\n",
    "\t\t\t17: 0.43,\n",
    "\t\t\t18: 3.01,\n",
    "\t\t\t19: 4.797,\n",
    "\t\t\t20: 1.373,\n",
    "\t\t\t21: 0,\n",
    "\t\t\t22: 0,\n",
    "\t\t\t23: 0\n",
    "\t\t}\n",
    "hot_water_raw_profil = {key:value/24 for key,value in hot_water_raw_profil.items()}\n",
    "hourly_hot_water_raw_day_profil = apply_hourly_pattern(daily_hot_water_energy_consumption.index,hot_water_raw_profil)\n",
    "\n",
    "hourly_hot_water_day_profil = basic_hot_water_hourly_profile(\n",
    "                                                        hourly_hot_water_raw_day_profil,\n",
    "                                                        0.1,\n",
    "                                                        0.1,\n",
    "                                                    )\n",
    "\n",
    "final_hourly_hot_water_energy_consumption = pd.DataFrame((daily_hot_water_energy_consumption * hourly_hot_water_day_profil['weight']).rename(ENERGY_FEATURE_NAME))"
   ]
  },
  {
   "cell_type": "code",
   "execution_count": null,
   "metadata": {},
   "outputs": [],
   "source": [
    "fig = go.Figure(layout_title=\"Integrating daily profile\")\n",
    "\n",
    "# Add trace for previous monthly weight\n",
    "fig.add_trace(\n",
    "    go.Scatter(\n",
    "        x=final_hourly_hot_water_energy_consumption.index,\n",
    "        y=final_hourly_hot_water_energy_consumption[ENERGY_FEATURE_NAME],\n",
    "        name=\"Hourly consumption\",\n",
    "        yaxis=\"y1\"  # Assign to y-axis 1\n",
    "    )\n",
    ")\n",
    "\n",
    "# Add trace for previous monthly weight\n",
    "fig.add_trace(\n",
    "    go.Scatter(\n",
    "        x=daily_hot_water_energy_consumption.index,\n",
    "        y=daily_hot_water_energy_consumption/24,\n",
    "        name=\"Hourly consumption\",\n",
    "        yaxis=\"y1\"  # Assign to y-axis 1\n",
    "    )\n",
    ")\n",
    "\n",
    "# Add trace for new hourly weight\n",
    "fig.add_trace(\n",
    "    go.Scatter(\n",
    "        x=induced_factors.index,\n",
    "        y=induced_factors.cold_water_temperature,\n",
    "        name=\"Cold water temperature\",\n",
    "        yaxis=\"y2\"  # Assign to y-axis 2\n",
    "    )\n",
    ")\n",
    "\n",
    "# Define y-axis properties\n",
    "fig.update_layout(\n",
    "    yaxis=dict(\n",
    "        title=\"Hourly consumption\",\n",
    "        side=\"left\"  # Align with left side\n",
    "    ),\n",
    "    yaxis2=dict(\n",
    "        title=\"Cold water temperature\",\n",
    "        overlaying=\"y\",  # Overlay on top of first y-axis\n",
    "        side=\"right\"  # Align with right side\n",
    "    ),\n",
    "    legend=dict(\n",
    "        orientation=\"h\",  # Horizontal orientation\n",
    "        yanchor=\"top\",  # Anchor to the top\n",
    "        y=-0.1,  # Position below the plot\n",
    "        x=0.5,\n",
    "        xanchor=\"center\"  # Anchor to the center\n",
    "    )\n",
    ")\n",
    "\n",
    "# Show the figure\n",
    "fig.show()"
   ]
  },
  {
   "cell_type": "code",
   "execution_count": null,
   "metadata": {},
   "outputs": [],
   "source": [
    "from heatpro.temporal_demand import HourlyHeatDemand\n",
    "\n",
    "hot_water_energy_load = HourlyHeatDemand('hot_water',final_hourly_hot_water_energy_consumption)\n",
    "hot_water_energy_load.plot()"
   ]
  },
  {
   "cell_type": "code",
   "execution_count": null,
   "metadata": {},
   "outputs": [],
   "source": [
    "from heatpro.special_hot_water import special_hot_water\n",
    "\n",
    "direct_hot_water_energy_load = special_hot_water(\n",
    "                        external_factors,\n",
    "                        total_heating_including_hotwater,\n",
    "                        monthly_hot_water_profile,\n",
    "                        Temperature_hot_water,\n",
    "                        hourly_hot_water_day_profil,\n",
    "                        name=\"hot_water\")\n",
    "\n",
    "direct_hot_water_energy_load.plot()"
   ]
  }
 ],
 "metadata": {
  "kernelspec": {
   "display_name": ".venv",
   "language": "python",
   "name": "python3"
  },
  "language_info": {
   "codemirror_mode": {
    "name": "ipython",
    "version": 3
   },
   "file_extension": ".py",
   "mimetype": "text/x-python",
   "name": "python",
   "nbconvert_exporter": "python",
   "pygments_lexer": "ipython3",
   "version": "3.10.0"
  }
 },
 "nbformat": 4,
 "nbformat_minor": 2
}
